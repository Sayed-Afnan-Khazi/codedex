{
 "cells": [
  {
   "cell_type": "code",
   "execution_count": null,
   "metadata": {},
   "outputs": [],
   "source": [
    "import json\n",
    "# https://www.kaggle.com/datasets/ltcmdrdata/plain-text-wikipedia-202011?resource=download\n",
    "file_names = [\n",
    "    '00c2bfc7-57db-496e-9d5c-d62f8d8119e3.json',\n",
    "    '01472aab-d8c2-43aa-b510-e259d58cd9a4.json',\n",
    "    '00e58afe-3ef5-42a6-92f3-8ee7abf868e1.json',\n",
    "    '017a0674-613b-428d-8e3a-7dcf86b72edb.json',\n",
    "    '0104b39c-7aa4-45cd-8d28-b05dc6bafdf2.json',\n",
    "]"
   ]
  },
  {
   "cell_type": "code",
   "execution_count": null,
   "metadata": {},
   "outputs": [],
   "source": [
    "# Convert all 5 json files including 'text' into text files\n",
    "\n",
    "for file_name in file_names:\n",
    "    with open('./data/'+file_name) as fobj:\n",
    "        training_data = ''\n",
    "        lol = json.loads(fobj.read())\n",
    "        for row in lol:\n",
    "            training_data += row['text']\n",
    "        wobj = open(f'./training_data_{file_name.split('.')[:-1][0]}.txt','w')\n",
    "        wobj.write(training_data)\n",
    "        wobj.close()\n",
    "    print(f\"File {file_name} done.\")"
   ]
  },
  {
   "cell_type": "code",
   "execution_count": 2,
   "metadata": {},
   "outputs": [],
   "source": [
    "converted_file_names = [\n",
    "    \"training_data_00c2bfc7-57db-496e-9d5c-d62f8d8119e3.txt\",\n",
    "\"training_data_00e58afe-3ef5-42a6-92f3-8ee7abf868e1.txt\",\n",
    "\"training_data_0104b39c-7aa4-45cd-8d28-b05dc6bafdf2.txt\",\n",
    "\"training_data_01472aab-d8c2-43aa-b510-e259d58cd9a4.txt\",\n",
    "\"training_data_017a0674-613b-428d-8e3a-7dcf86b72edb.txt\",\n",
    "]"
   ]
  },
  {
   "cell_type": "code",
   "execution_count": 4,
   "metadata": {},
   "outputs": [],
   "source": [
    "# Combine all 5 text files into 1 single text file\n",
    "wobj = open('./training_data_combined.txt','w')\n",
    "\n",
    "for file_name in converted_file_names:\n",
    "    with open('./'+file_name) as fobj:\n",
    "        wobj.write(fobj.read())\n",
    "wobj.close()"
   ]
  }
 ],
 "metadata": {
  "kernelspec": {
   "display_name": ".venv",
   "language": "python",
   "name": "python3"
  },
  "language_info": {
   "codemirror_mode": {
    "name": "ipython",
    "version": 3
   },
   "file_extension": ".py",
   "mimetype": "text/x-python",
   "name": "python",
   "nbconvert_exporter": "python",
   "pygments_lexer": "ipython3",
   "version": "3.13.1"
  }
 },
 "nbformat": 4,
 "nbformat_minor": 2
}
